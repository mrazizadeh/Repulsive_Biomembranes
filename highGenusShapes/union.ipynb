{
 "cells": [
  {
   "cell_type": "code",
   "execution_count": 10,
   "metadata": {},
   "outputs": [],
   "source": [
    "import pymesh"
   ]
  },
  {
   "cell_type": "code",
   "execution_count": 11,
   "metadata": {},
   "outputs": [],
   "source": [
    "mesh_A = pymesh.load_mesh(\"tor1.obj\")\n",
    "mesh_B = pymesh.load_mesh(\"tor2.obj\")\n",
    "output_mesh = pymesh.boolean(mesh_A, mesh_B,\n",
    "                             operation=\"union\",\n",
    "                             engine=\"igl\")"
   ]
  },
  {
   "cell_type": "code",
   "execution_count": 12,
   "metadata": {},
   "outputs": [],
   "source": [
    "pymesh.meshio.save_mesh(\"gen2.obj\", output_mesh)"
   ]
  },
  {
   "cell_type": "code",
   "execution_count": 13,
   "metadata": {},
   "outputs": [],
   "source": [
    "mesh_A = pymesh.load_mesh(\"gen2.obj\")\n",
    "mesh_B = pymesh.load_mesh(\"tor3.obj\")\n",
    "output_mesh = pymesh.boolean(mesh_A, mesh_B,\n",
    "                             operation=\"union\",\n",
    "                             engine=\"igl\")\n",
    "pymesh.meshio.save_mesh(\"gen3.obj\", output_mesh)"
   ]
  },
  {
   "cell_type": "code",
   "execution_count": 14,
   "metadata": {},
   "outputs": [],
   "source": [
    "mesh_A = pymesh.load_mesh(\"gen3.obj\")\n",
    "mesh_B = pymesh.load_mesh(\"tor4.obj\")\n",
    "output_mesh = pymesh.boolean(mesh_A, mesh_B,\n",
    "                             operation=\"union\",\n",
    "                             engine=\"igl\")\n",
    "pymesh.meshio.save_mesh(\"gen4.obj\", output_mesh)"
   ]
  },
  {
   "cell_type": "code",
   "execution_count": 15,
   "metadata": {},
   "outputs": [],
   "source": [
    "mesh_A = pymesh.load_mesh(\"gen4.obj\")\n",
    "mesh_B = pymesh.load_mesh(\"tor5.obj\")\n",
    "output_mesh = pymesh.boolean(mesh_A, mesh_B,\n",
    "                             operation=\"union\",\n",
    "                             engine=\"igl\")\n",
    "pymesh.meshio.save_mesh(\"gen5.obj\", output_mesh)"
   ]
  },
  {
   "cell_type": "code",
   "execution_count": 16,
   "metadata": {},
   "outputs": [],
   "source": [
    "mesh_A = pymesh.load_mesh(\"gen5.obj\")\n",
    "mesh_B = pymesh.load_mesh(\"tor6.obj\")\n",
    "output_mesh = pymesh.boolean(mesh_A, mesh_B,\n",
    "                             operation=\"union\",\n",
    "                             engine=\"igl\")\n",
    "pymesh.meshio.save_mesh(\"gen6.obj\", output_mesh)"
   ]
  },
  {
   "cell_type": "code",
   "execution_count": 17,
   "metadata": {},
   "outputs": [],
   "source": [
    "mesh_A = pymesh.load_mesh(\"gen6.obj\")\n",
    "mesh_B = pymesh.load_mesh(\"tor7.obj\")\n",
    "output_mesh = pymesh.boolean(mesh_A, mesh_B,\n",
    "                             operation=\"union\",\n",
    "                             engine=\"igl\")\n",
    "pymesh.meshio.save_mesh(\"gen7.obj\", output_mesh)"
   ]
  },
  {
   "cell_type": "code",
   "execution_count": 18,
   "metadata": {},
   "outputs": [],
   "source": [
    "mesh_A = pymesh.load_mesh(\"gen7.obj\")\n",
    "mesh_B = pymesh.load_mesh(\"tor8.obj\")\n",
    "output_mesh = pymesh.boolean(mesh_A, mesh_B,\n",
    "                             operation=\"union\",\n",
    "                             engine=\"igl\")\n",
    "pymesh.meshio.save_mesh(\"gen8.obj\", output_mesh)"
   ]
  },
  {
   "cell_type": "code",
   "execution_count": 20,
   "metadata": {},
   "outputs": [],
   "source": [
    "\n",
    "# The next step is to fix mex using fix mesh script of pymesh\n",
    "#fix_mesh.py gen8.obj gen8_fixed.obj --detail low"
   ]
  },
  {
   "cell_type": "code",
   "execution_count": null,
   "metadata": {},
   "outputs": [],
   "source": []
  }
 ],
 "metadata": {
  "kernelspec": {
   "display_name": "Python 3",
   "language": "python",
   "name": "python3"
  },
  "language_info": {
   "codemirror_mode": {
    "name": "ipython",
    "version": 3
   },
   "file_extension": ".py",
   "mimetype": "text/x-python",
   "name": "python",
   "nbconvert_exporter": "python",
   "pygments_lexer": "ipython3",
   "version": "3.10.12"
  },
  "orig_nbformat": 4
 },
 "nbformat": 4,
 "nbformat_minor": 2
}
